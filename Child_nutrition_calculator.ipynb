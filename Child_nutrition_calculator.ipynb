{
 "cells": [
  {
   "cell_type": "code",
   "execution_count": 3,
   "metadata": {},
   "outputs": [
    {
     "name": "stdout",
     "output_type": "stream",
     "text": [
      "!!WELCOME TO CHILD NUTRITION CALCULATOR!!\n",
      "      FOLLOW THE PROCEDURE GIVEN BELOW\n",
      "PLEASE enter Child's nameRajan\n",
      "PLEASE enter Child's age :6\n",
      "PLEASE enter Child's gender :male\n",
      "PLEASE enter Child's weight in pounds :33\n",
      "PLEASE enter Child's height in inches :21\n",
      "The details are as follows :-\n",
      "Name : Rajan, Age : 6, Gender : male, Weight : 33.0, Height : 21.0\n"
     ]
    }
   ],
   "source": [
    "#taking input the details of the child\n",
    "print(\"\"\"!!WELCOME TO CHILD NUTRITION CALCULATOR!!\n",
    "      FOLLOW THE PROCEDURE GIVEN BELOW\"\"\")\n",
    "name = input(\"PLEASE enter Child's name : \")\n",
    "age = int(input(\"PLEASE enter Child's age :\"))\n",
    "gender = input(\"PLEASE enter Child's gender :\")\n",
    "weight = float(input(\"PLEASE enter Child's weight in pounds :\"))\n",
    "height = float(input(\"PLEASE enter Child's height in inches :\"))\n",
    "print(\"The details are as follows :-\")\n",
    "print(\"Name : \"+ name + \", Age : \"+str(age)+\", Gender : \"+ gender +\", Weight : \"+ str(weight) + \", Height : \" + str(height))\n"
   ]
  },
  {
   "cell_type": "code",
   "execution_count": 4,
   "metadata": {},
   "outputs": [
    {
     "name": "stdout",
     "output_type": "stream",
     "text": [
      "Rajan's BMI is 52.605442176870746\n",
      "Rajan is Obese\n"
     ]
    }
   ],
   "source": [
    "#Calculating BMI\n",
    "def Bmi(): \n",
    "  bmi = weight/(height**2)*703\n",
    "  print(name+\"'s BMI is \" + str(bmi))\n",
    "  if bmi<16.0:\n",
    "    return \"Severly Underweight\"\n",
    "  elif bmi>=16.0 and bmi<18.5:\n",
    "    return \"Underweight\"\n",
    "  elif bmi>=18.5 and bmi<25.0:\n",
    "    return \"Healthy\"\n",
    "  elif bmi>=25.0 and bmi<30.0 :\n",
    "    return \"Overweight\"\n",
    "  elif bmi>=30.0:\n",
    "    return \"Obese\"\n",
    "  else:\n",
    "    return \"Enter the correct values\"\n",
    "\n",
    "print(name + \" is \"+Bmi())"
   ]
  },
  {
   "cell_type": "code",
   "execution_count": 5,
   "metadata": {},
   "outputs": [
    {
     "name": "stdout",
     "output_type": "stream",
     "text": [
      "      !! ENTER THE QUANTITY OF ITEMS DISPLAYED BELOW \n",
      "    AND IF THE CHILD HAS NOT CONSUMED ANY ONE OR MORE ITEMS DISPLAYED THEN JUST PUT '0' AS INPUT !!\n",
      "Enter the quantity of MILK taken in grams: 600\n",
      "Enter the quantity of EGG taken in grams : 0\n",
      "Enter the quantity of RICE taken in grams : 255\n",
      "Enter the quantity of LENTILS taken in grams : 0\n",
      "Enter the quantity of VEGETABLE taken in grams : 750\n",
      "Enter the quantity of MEAT taken in grams : 0\n",
      "The Daily Calorie Consumption of Rajan is 1569.0\n"
     ]
    }
   ],
   "source": [
    "#Taking input what that child has eaten throughout the day and in what quantities.\n",
    "#And calculating daily calorie consumption\n",
    "\n",
    "def dailyCalorieConsumption():\n",
    "    milk=1.0\n",
    "    egg=1.55\n",
    "    rice=1.30\n",
    "    lentils=1.13\n",
    "    vegetable=0.85\n",
    "    meat=1.43\n",
    "    print(\"\"\"      !! ENTER THE QUANTITY OF ITEMS DISPLAYED BELOW \n",
    "    AND IF THE CHILD HAS NOT CONSUMED ANY ONE OR MORE ITEMS DISPLAYED THEN JUST PUT '0' AS INPUT !!\"\"\")\n",
    "    dCC1 = float(input(\"Enter the quantity of MILK taken in grams: \"))*milk\n",
    "    dCC2 = float(input(\"Enter the quantity of EGG taken in grams : \"))*egg\n",
    "    dCC3 = float(input(\"Enter the quantity of RICE taken in grams : \"))*rice\n",
    "    dCC4 = float(input(\"Enter the quantity of LENTILS taken in grams : \"))*lentils\n",
    "    dCC5 = float(input(\"Enter the quantity of VEGETABLE taken in grams : \"))*vegetable\n",
    "    dCC6 = float(input(\"Enter the quantity of MEAT taken in grams : \"))*meat\n",
    "    dCC = dCC1+dCC2+dCC3+dCC4+dCC5+dCC6\n",
    "    return dCC\n",
    "calorie = dailyCalorieConsumption()\n",
    "print(\"The Daily Calorie Consumption of \"+name +\" is \"+str(calorie))"
   ]
  },
  {
   "cell_type": "code",
   "execution_count": 6,
   "metadata": {},
   "outputs": [
    {
     "name": "stdout",
     "output_type": "stream",
     "text": [
      "Age b/w 0-2 years: 800 calories\n",
      "Age b/w 2-4 years: 1400 calories\n",
      "Age b/w 4-8 years: 1800 calories\n"
     ]
    }
   ],
   "source": [
    "#Display the minimum daily calorie requirement based on age\n",
    "print(\"\"\"Age b/w 0-2 years: 800 calories\n",
    "Age b/w 2-4 years: 1400 calories\n",
    "Age b/w 4-8 years: 1800 calories\"\"\")    "
   ]
  },
  {
   "cell_type": "code",
   "execution_count": 7,
   "metadata": {},
   "outputs": [
    {
     "name": "stdout",
     "output_type": "stream",
     "text": [
      "Rajan IS UNDERNOURISHED\n"
     ]
    }
   ],
   "source": [
    "#calculating whether the child is undernourished or not\n",
    "if age<2:\n",
    "    if calorie<800:\n",
    "        print(name+\" IS UNDERNOURISHED\")\n",
    "    else:\n",
    "        print(name+\" IS NOT UNDERNOURISHED\")\n",
    "elif age >=2 and age<4:\n",
    "    if calorie < 1400:\n",
    "        print(name+\" IS UNDERNOURISHED\")\n",
    "    else:\n",
    "        print(name+\" IS NOT UNDERNOURISHED\")\n",
    "elif age >=4 and age<8 :\n",
    "    if calorie <1800:\n",
    "        print(name+\" IS UNDERNOURISHED\")\n",
    "    else:\n",
    "        print(name+\" IS NOT UNDERNOURISHED\")\n",
    "else:\n",
    "    print(\"Please enter valid input\")"
   ]
  }
 ],
 "metadata": {
  "kernelspec": {
   "display_name": "Python 3 (ipykernel)",
   "language": "python",
   "name": "python3"
  },
  "language_info": {
   "codemirror_mode": {
    "name": "ipython",
    "version": 3
   },
   "file_extension": ".py",
   "mimetype": "text/x-python",
   "name": "python",
   "nbconvert_exporter": "python",
   "pygments_lexer": "ipython3",
   "version": "3.9.12"
  },
  "vscode": {
   "interpreter": {
    "hash": "23bf0724a01b6ea9814e66f76182ea78c0ee849a72ca257c0e116bf83bb4960a"
   }
  }
 },
 "nbformat": 4,
 "nbformat_minor": 2
}
